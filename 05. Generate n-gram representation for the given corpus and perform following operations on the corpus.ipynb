{
 "cells": [
  {
   "cell_type": "markdown",
   "id": "2435411d",
   "metadata": {},
   "source": [
    "# 5. Generate n-gram representation for the given corpus and perform following operations on the corpus\n",
    "#### Preprocess the corpus for n-gram representation\n",
    "#### Display all tokens, distinct tokens and frequency of tokens in the corpus\n",
    "#### Bi-gram and frequency representation using user defined functions\n",
    "#### Tri-gram\n"
   ]
  },
  {
   "cell_type": "code",
   "execution_count": 1,
   "id": "7e3c815e",
   "metadata": {},
   "outputs": [],
   "source": [
    "import nltk"
   ]
  },
  {
   "cell_type": "code",
   "execution_count": 5,
   "id": "689de2bb",
   "metadata": {},
   "outputs": [
    {
     "name": "stdout",
     "output_type": "stream",
     "text": [
      "The Arabian knights.These are the fairy tales of the east.The stories of the Arabian knights are translated in many languages\n",
      "\n"
     ]
    }
   ],
   "source": [
    "with open('../4nm21ai065/NGRAM.txt') as f:\n",
    "    corpus = f.readline()\n",
    "print(corpus)"
   ]
  },
  {
   "cell_type": "markdown",
   "id": "7622b26b",
   "metadata": {},
   "source": [
    "## 2. Preprocessing"
   ]
  },
  {
   "cell_type": "code",
   "execution_count": 6,
   "id": "21084c2c",
   "metadata": {},
   "outputs": [
    {
     "name": "stdout",
     "output_type": "stream",
     "text": [
      "preprocessed Data Corpus = \n",
      " eos the arabian knights eos these are the fairy tales of the east eos the stories of the arabian knights are translated in many languages\n",
      "\n"
     ]
    }
   ],
   "source": [
    "corpus = corpus.lower()\n",
    "corpus = \"eos \"+corpus\n",
    "corpus = corpus.replace(\".\",\" eos \")\n",
    "print(\"preprocessed Data Corpus = \\n\", corpus)"
   ]
  },
  {
   "cell_type": "markdown",
   "id": "94f61820",
   "metadata": {},
   "source": [
    "## 3. Tokenization"
   ]
  },
  {
   "cell_type": "code",
   "execution_count": 7,
   "id": "0f794c32",
   "metadata": {},
   "outputs": [
    {
     "name": "stdout",
     "output_type": "stream",
     "text": [
      "Total tokesn in the corpus:  ['eos', 'the', 'arabian', 'knights', 'eos', 'these', 'are', 'the', 'fairy', 'tales', 'of', 'the', 'east', 'eos', 'the', 'stories', 'of', 'the', 'arabian', 'knights', 'are', 'translated', 'in', 'many', 'languages']\n",
      "Distinct Tokens in the corpus:  {'are', 'stories', 'of', 'the', 'translated', 'in', 'many', 'knights', 'fairy', 'east', 'tales', 'arabian', 'these', 'languages', 'eos'}\n"
     ]
    }
   ],
   "source": [
    "from nltk.tokenize import word_tokenize\n",
    "token = word_tokenize(corpus)\n",
    "print('Total tokesn in the corpus: ', token)\n",
    "print('Distinct Tokens in the corpus: ', set(token))"
   ]
  },
  {
   "cell_type": "markdown",
   "id": "5b041be4",
   "metadata": {},
   "source": [
    "## 4. Find out Frequencies"
   ]
  },
  {
   "cell_type": "code",
   "execution_count": 8,
   "id": "95486afa",
   "metadata": {},
   "outputs": [
    {
     "name": "stdout",
     "output_type": "stream",
     "text": [
      "Freq of each tokens =  {'eos': 3, 'the': 5, 'arabian': 2, 'knights': 2, 'these': 1, 'are': 2, 'fairy': 1, 'tales': 1, 'of': 2, 'east': 1, 'stories': 1, 'translated': 1, 'in': 1, 'many': 1, 'languages': 1}\n"
     ]
    }
   ],
   "source": [
    "dct = {}\n",
    "for i in token:\n",
    "    dct[i] = 0\n",
    "for i in token:\n",
    "    dct[i] += 1\n",
    "print(\"Freq of each tokens = \", dct)"
   ]
  },
  {
   "cell_type": "markdown",
   "id": "ed4db90b",
   "metadata": {},
   "source": [
    "## 5. Generate n-grams(bi-grams)/trigrams and freq."
   ]
  },
  {
   "cell_type": "code",
   "execution_count": 9,
   "id": "019d53e7",
   "metadata": {},
   "outputs": [],
   "source": [
    "def ngram(k):\n",
    "    l = []\n",
    "    for i in range(len(token)):\n",
    "        l.append(token[i:i+k])\n",
    "    l=l[:-1]\n",
    "\n",
    "    # Get Freq.\n",
    "    dct = {}\n",
    "    l = [\" \".join(i) for i in l]\n",
    "    for i in token:\n",
    "        dct[i] = 0\n",
    "    for i in token:\n",
    "        dct[i] += 1\n",
    "    return dct"
   ]
  },
  {
   "cell_type": "code",
   "execution_count": 10,
   "id": "0bd85a4a",
   "metadata": {},
   "outputs": [
    {
     "name": "stdout",
     "output_type": "stream",
     "text": [
      "{'eos': 3, 'the': 5, 'arabian': 2, 'knights': 2, 'these': 1, 'are': 2, 'fairy': 1, 'tales': 1, 'of': 2, 'east': 1, 'stories': 1, 'translated': 1, 'in': 1, 'many': 1, 'languages': 1}\n"
     ]
    }
   ],
   "source": [
    "print(ngram(2))"
   ]
  },
  {
   "cell_type": "code",
   "execution_count": null,
   "id": "b5248a78",
   "metadata": {},
   "outputs": [],
   "source": []
  }
 ],
 "metadata": {
  "kernelspec": {
   "display_name": "Python 3 (ipykernel)",
   "language": "python",
   "name": "python3"
  },
  "language_info": {
   "codemirror_mode": {
    "name": "ipython",
    "version": 3
   },
   "file_extension": ".py",
   "mimetype": "text/x-python",
   "name": "python",
   "nbconvert_exporter": "python",
   "pygments_lexer": "ipython3",
   "version": "3.11.5"
  }
 },
 "nbformat": 4,
 "nbformat_minor": 5
}
