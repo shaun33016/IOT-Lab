{
 "cells": [
  {
   "cell_type": "markdown",
   "id": "b99b0369",
   "metadata": {},
   "source": [
    "### a. Tokenize the email ids from the given students.txt using spacy"
   ]
  },
  {
   "cell_type": "code",
   "execution_count": 7,
   "id": "546c34a2",
   "metadata": {},
   "outputs": [],
   "source": [
    "import spacy"
   ]
  },
  {
   "cell_type": "code",
   "execution_count": 8,
   "id": "8e473845",
   "metadata": {},
   "outputs": [],
   "source": [
    "nlp = spacy.load(\"en_core_web_sm\")"
   ]
  },
  {
   "cell_type": "code",
   "execution_count": 9,
   "id": "ea3524e3",
   "metadata": {
    "scrolled": false
   },
   "outputs": [
    {
     "data": {
      "text/plain": [
       "['NMAMIT Institute of Tachnology,Bachelor of Engineering \\n',\n",
       " '\\n',\n",
       " '  Name    birth day         email \\n',\n",
       " ' \\n',\n",
       " ' Virat   5/06/1882     virat@kohli.com\\n',\n",
       " ' Maria   2/04/2001    maria@sharapova.com\\n',\n",
       " ' Serena  24/06/1998   serena@williams.com\\n',\n",
       " ' Joe      1/05/1997    joe@root.com\\n',\n",
       " ' ashwal   11/05/2008    ashwal@nmamit.ac.in\\n',\n",
       " ' Joen      1/09/2000  joen@nmamit.ac.in\\n',\n",
       " ' Clawn    1/10/2005   clawn@nitte.edu.in.com\\n',\n",
       " ' reeema      21/05/1997    reema@flagroots.com\\n',\n",
       " ' leesha      4/6/2008    leesha@root.com\\n',\n",
       " ' harshin      7/07/2019    harshin@dreams.com\\n',\n",
       " ' Dhruvi       30/11/2022   dhrvi@nitte.edu.in\\n',\n",
       " ' Jane      1/9/2000    jane@nmamit.ac.in\\n',\n",
       " ' Jon      12/12/2003    jon@nmamit.ac.in\\n',\n",
       " ' Jonin      10/2/1998    jonin@nmamit.ac.in\\n',\n",
       " ' Haon      4/1/2010    hoen@nmamit.ac.in\\n',\n",
       " ' Renz      5/5/1999    ren@nmamit.ac.in\\n',\n",
       " ' Joe      1/9/2000    joe@nmamit.ac.in\\n',\n",
       " 'ChristopherAnderson    2/3/1981  ChristopherAnderson@gmail.com\\n',\n",
       " 'RonaldClark   3/4/1981        RonaldClark@gmail.com\\n',\n",
       " 'MaryWright    4/5/1981       MaryWright@gmail.com\\n',\n",
       " 'Lisa Mitchell 5/6/1981 LisaMitchell@gmail.com\\n',\n",
       " 'Michelle Johnson 6/7/1981 MichelleJohnson@gmail.com\\n',\n",
       " 'John Thomas 7/8/1981  JohnThomas@gmail.com\\n',\n",
       " 'Daniel Rodriguez 8/9/1981 DanielRodriguez@gmail.com\\n',\n",
       " 'Anthony Lopez 9/10/1981 AnthonyLopez@gmail.com\\n',\n",
       " 'Patricia Perez 1/10/1975 PatriciaPerez@gmail.com\\n',\n",
       " 'Nancy Williams 2/11/1975 NancyWilliams@hotmail.com\\n',\n",
       " 'Laura Jackson 3/12/1975 LauraJackson@hotmail.com\\n',\n",
       " 'Robert Lewis 4/13/1975 RobertLewis@hotmail.com\\n',\n",
       " 'Paul Hill 5/14/1975 PaulHill@hotmail.com\\n',\n",
       " 'Kevin Roberts 6/14/1975 KevinRoberts@hotmail.com\\n',\n",
       " 'Linda Jones 7/16/1975 LindaJones@hotmail.com\\n',\n",
       " 'Karen White 8/17/1975 KarenWhite@hotmail.com\\n',\n",
       " 'Sarah Lee 9/18/1975 SarahLee@hotmail.com\\n',\n",
       " 'Michael Scott 10/19/1975 MichaelScott@hotmail.com\\n',\n",
       " 'Mark Turner 1/20/1991 MarkTurner@hotmail.com\\n',\n",
       " 'Jason Brown 2/21/1991 JasonBrown@aol.com\\n',\n",
       " 'Barbara Harris 3/22/1991 BarbaraHarris@aol.com\\n',\n",
       " 'Betty Walker 4/23/1991 BettyWalker@aol.com\\n',\n",
       " 'Kimberly Green 5/24/1991 KimberlyGreen@aol.com\\n',\n",
       " 'William Phillips 6/25/1991 WilliamPhillips@aol.com\\n',\n",
       " 'Donald Davis 7/26/1991 DonaldDavis@aol.com\\n',\n",
       " 'Jeff Martin 8/27/1991 JeffMartin@aol.com\\n',\n",
       " 'Elizabeth Hall 9/28/1991 ElizabethHall@aol.com\\n',\n",
       " 'Hele Adams 10/29/1991 HelenAdams@aol.com\\n',\n",
       " 'Deborah Campbell 11/30/1991 DeborahCampbell@aol.com\\n',\n",
       " 'David Miller 12/31/1991 DavidMiller@yahoo.com\\n',\n",
       " 'George Thompson 1/17/1968 GeorgeThompson@yahoo.com\\n',\n",
       " 'Jennifer Allen 2/18/1968 JenniferAllen@yahoo.com\\n',\n",
       " 'Sandra Baker 3/19/1968 SandraBaker@yahoo.com\\n',\n",
       " 'Richard Parker 4/20/1968 RichardParker@yahoo.com\\n',\n",
       " 'Kenneth Wilson 5/21/1968 KennethWilson@yahoo.com\\n',\n",
       " 'Maria Garcia 6/22/1968 MariaGarcia@yahoo.com\\n',\n",
       " 'Donna Young 7/23/1968 DonnaYoung@yahoo.com\\n',\n",
       " 'Charles Gonzalez 8/24/1968 CharlesGonzalez@yahoo.com\\n',\n",
       " 'Steven Evans 9/25/1968 StevenEvans@yahoo.com\\n',\n",
       " 'Susan Moore 10/26/1968 SusanMoore@yahoo.com\\n',\n",
       " 'Carol Martinez 11/27/1968 CarolMartinez@facebook.com\\n',\n",
       " 'Joseph Hernandez 12/28/1968 JosephHernandez@facebook.com\\n',\n",
       " 'Edward Nelson 1/29/1968 EdwardNelson@facebook.com\\n',\n",
       " 'Margaret Edwards 1/30/1968 MargaretEdwards@facebook.com\\n',\n",
       " 'Ruth Taylor 1/31/1968 RuthTaylor@facebook.com\\n',\n",
       " 'Thomas Robinson 2/1/1968 ThomasRobinson@facebook.com\\n',\n",
       " 'Brian King 2/2/1968 BrianKing@facebook.com\\n',\n",
       " 'Dorothy Carter 2/3/1968 DorothyCarter@facebook.com\\n',\n",
       " 'Sharon Collins 2/4/1968 SharonCollins@facebook.com']"
      ]
     },
     "execution_count": 9,
     "metadata": {},
     "output_type": "execute_result"
    }
   ],
   "source": [
    "with open(\"students.txt\") as f:\n",
    "    text = f.readlines()\n",
    "text"
   ]
  },
  {
   "cell_type": "code",
   "execution_count": 10,
   "id": "505badf8",
   "metadata": {},
   "outputs": [
    {
     "data": {
      "text/plain": [
       "'NMAMIT Institute of Tachnology,Bachelor of Engineering \\n \\n   Name    birth day         email \\n  \\n  Virat   5/06/1882     virat@kohli.com\\n  Maria   2/04/2001    maria@sharapova.com\\n  Serena  24/06/1998   serena@williams.com\\n  Joe      1/05/1997    joe@root.com\\n  ashwal   11/05/2008    ashwal@nmamit.ac.in\\n  Joen      1/09/2000  joen@nmamit.ac.in\\n  Clawn    1/10/2005   clawn@nitte.edu.in.com\\n  reeema      21/05/1997    reema@flagroots.com\\n  leesha      4/6/2008    leesha@root.com\\n  harshin      7/07/2019    harshin@dreams.com\\n  Dhruvi       30/11/2022   dhrvi@nitte.edu.in\\n  Jane      1/9/2000    jane@nmamit.ac.in\\n  Jon      12/12/2003    jon@nmamit.ac.in\\n  Jonin      10/2/1998    jonin@nmamit.ac.in\\n  Haon      4/1/2010    hoen@nmamit.ac.in\\n  Renz      5/5/1999    ren@nmamit.ac.in\\n  Joe      1/9/2000    joe@nmamit.ac.in\\n ChristopherAnderson    2/3/1981  ChristopherAnderson@gmail.com\\n RonaldClark   3/4/1981        RonaldClark@gmail.com\\n MaryWright    4/5/1981       MaryWright@gmail.com\\n Lisa Mitchell 5/6/1981 LisaMitchell@gmail.com\\n Michelle Johnson 6/7/1981 MichelleJohnson@gmail.com\\n John Thomas 7/8/1981  JohnThomas@gmail.com\\n Daniel Rodriguez 8/9/1981 DanielRodriguez@gmail.com\\n Anthony Lopez 9/10/1981 AnthonyLopez@gmail.com\\n Patricia Perez 1/10/1975 PatriciaPerez@gmail.com\\n Nancy Williams 2/11/1975 NancyWilliams@hotmail.com\\n Laura Jackson 3/12/1975 LauraJackson@hotmail.com\\n Robert Lewis 4/13/1975 RobertLewis@hotmail.com\\n Paul Hill 5/14/1975 PaulHill@hotmail.com\\n Kevin Roberts 6/14/1975 KevinRoberts@hotmail.com\\n Linda Jones 7/16/1975 LindaJones@hotmail.com\\n Karen White 8/17/1975 KarenWhite@hotmail.com\\n Sarah Lee 9/18/1975 SarahLee@hotmail.com\\n Michael Scott 10/19/1975 MichaelScott@hotmail.com\\n Mark Turner 1/20/1991 MarkTurner@hotmail.com\\n Jason Brown 2/21/1991 JasonBrown@aol.com\\n Barbara Harris 3/22/1991 BarbaraHarris@aol.com\\n Betty Walker 4/23/1991 BettyWalker@aol.com\\n Kimberly Green 5/24/1991 KimberlyGreen@aol.com\\n William Phillips 6/25/1991 WilliamPhillips@aol.com\\n Donald Davis 7/26/1991 DonaldDavis@aol.com\\n Jeff Martin 8/27/1991 JeffMartin@aol.com\\n Elizabeth Hall 9/28/1991 ElizabethHall@aol.com\\n Hele Adams 10/29/1991 HelenAdams@aol.com\\n Deborah Campbell 11/30/1991 DeborahCampbell@aol.com\\n David Miller 12/31/1991 DavidMiller@yahoo.com\\n George Thompson 1/17/1968 GeorgeThompson@yahoo.com\\n Jennifer Allen 2/18/1968 JenniferAllen@yahoo.com\\n Sandra Baker 3/19/1968 SandraBaker@yahoo.com\\n Richard Parker 4/20/1968 RichardParker@yahoo.com\\n Kenneth Wilson 5/21/1968 KennethWilson@yahoo.com\\n Maria Garcia 6/22/1968 MariaGarcia@yahoo.com\\n Donna Young 7/23/1968 DonnaYoung@yahoo.com\\n Charles Gonzalez 8/24/1968 CharlesGonzalez@yahoo.com\\n Steven Evans 9/25/1968 StevenEvans@yahoo.com\\n Susan Moore 10/26/1968 SusanMoore@yahoo.com\\n Carol Martinez 11/27/1968 CarolMartinez@facebook.com\\n Joseph Hernandez 12/28/1968 JosephHernandez@facebook.com\\n Edward Nelson 1/29/1968 EdwardNelson@facebook.com\\n Margaret Edwards 1/30/1968 MargaretEdwards@facebook.com\\n Ruth Taylor 1/31/1968 RuthTaylor@facebook.com\\n Thomas Robinson 2/1/1968 ThomasRobinson@facebook.com\\n Brian King 2/2/1968 BrianKing@facebook.com\\n Dorothy Carter 2/3/1968 DorothyCarter@facebook.com\\n Sharon Collins 2/4/1968 SharonCollins@facebook.com'"
      ]
     },
     "execution_count": 10,
     "metadata": {},
     "output_type": "execute_result"
    }
   ],
   "source": [
    "text= \" \".join(text)\n",
    "text"
   ]
  },
  {
   "cell_type": "code",
   "execution_count": 11,
   "id": "c608f291",
   "metadata": {},
   "outputs": [
    {
     "name": "stdout",
     "output_type": "stream",
     "text": [
      "EMAIL ID:\n",
      " ['virat@kohli.com', 'maria@sharapova.com', 'serena@williams.com', 'joe@root.com', 'ashwal@nmamit.ac.in', 'joen@nmamit.ac.in', 'clawn@nitte.edu.in.com', 'reema@flagroots.com', 'leesha@root.com', 'harshin@dreams.com', 'dhrvi@nitte.edu.in', 'jane@nmamit.ac.in', 'jon@nmamit.ac.in', 'jonin@nmamit.ac.in', 'hoen@nmamit.ac.in', 'ren@nmamit.ac.in', 'joe@nmamit.ac.in', 'ChristopherAnderson@gmail.com', 'RonaldClark@gmail.com', 'MaryWright@gmail.com', 'LisaMitchell@gmail.com', 'MichelleJohnson@gmail.com', 'JohnThomas@gmail.com', 'DanielRodriguez@gmail.com', 'AnthonyLopez@gmail.com', 'PatriciaPerez@gmail.com', 'NancyWilliams@hotmail.com', 'LauraJackson@hotmail.com', 'RobertLewis@hotmail.com', 'PaulHill@hotmail.com', 'KevinRoberts@hotmail.com', 'LindaJones@hotmail.com', 'KarenWhite@hotmail.com', 'SarahLee@hotmail.com', 'MichaelScott@hotmail.com', 'MarkTurner@hotmail.com', 'JasonBrown@aol.com', 'BarbaraHarris@aol.com', 'BettyWalker@aol.com', 'KimberlyGreen@aol.com', 'WilliamPhillips@aol.com', 'DonaldDavis@aol.com', 'JeffMartin@aol.com', 'ElizabethHall@aol.com', 'HelenAdams@aol.com', 'DeborahCampbell@aol.com', 'DavidMiller@yahoo.com', 'GeorgeThompson@yahoo.com', 'JenniferAllen@yahoo.com', 'SandraBaker@yahoo.com', 'RichardParker@yahoo.com', 'KennethWilson@yahoo.com', 'MariaGarcia@yahoo.com', 'DonnaYoung@yahoo.com', 'CharlesGonzalez@yahoo.com', 'StevenEvans@yahoo.com', 'SusanMoore@yahoo.com', 'CarolMartinez@facebook.com', 'JosephHernandez@facebook.com', 'EdwardNelson@facebook.com', 'MargaretEdwards@facebook.com', 'RuthTaylor@facebook.com', 'ThomasRobinson@facebook.com', 'BrianKing@facebook.com', 'DorothyCarter@facebook.com', 'SharonCollins@facebook.com']\n"
     ]
    }
   ],
   "source": [
    "doc = nlp(text)\n",
    "emails = []\n",
    "for token in doc:\n",
    "    if token.like_email:\n",
    "        emails.append(token.text)\n",
    "print('EMAIL ID:\\n', emails)"
   ]
  },
  {
   "cell_type": "markdown",
   "id": "4bcd8895",
   "metadata": {},
   "source": [
    "### b. Tokenize all email ids from the given students.txt using NLTK"
   ]
  },
  {
   "cell_type": "code",
   "execution_count": 16,
   "id": "04273b31",
   "metadata": {},
   "outputs": [],
   "source": [
    "import nltk\n",
    "from nltk import word_tokenize"
   ]
  },
  {
   "cell_type": "code",
   "execution_count": 17,
   "id": "29edf2d2",
   "metadata": {},
   "outputs": [],
   "source": [
    "import re"
   ]
  },
  {
   "cell_type": "code",
   "execution_count": 18,
   "id": "f0a6305c",
   "metadata": {},
   "outputs": [
    {
     "name": "stdout",
     "output_type": "stream",
     "text": [
      "EMAIL ID: \n",
      " ['virat@kohli.com', 'maria@sharapova.com', 'serena@williams.com', 'joe@root.com', 'ashwal@nmamit.ac', 'joen@nmamit.ac', 'clawn@nitte.edu', 'reema@flagroots.com', 'leesha@root.com', 'harshin@dreams.com', 'dhrvi@nitte.edu', 'jane@nmamit.ac', 'jon@nmamit.ac', 'jonin@nmamit.ac', 'hoen@nmamit.ac', 'ren@nmamit.ac', 'joe@nmamit.ac', 'ChristopherAnderson@gmail.com', 'RonaldClark@gmail.com', 'MaryWright@gmail.com', 'LisaMitchell@gmail.com', 'MichelleJohnson@gmail.com', 'JohnThomas@gmail.com', 'DanielRodriguez@gmail.com', 'AnthonyLopez@gmail.com', 'PatriciaPerez@gmail.com', 'NancyWilliams@hotmail.com', 'LauraJackson@hotmail.com', 'RobertLewis@hotmail.com', 'PaulHill@hotmail.com', 'KevinRoberts@hotmail.com', 'LindaJones@hotmail.com', 'KarenWhite@hotmail.com', 'SarahLee@hotmail.com', 'MichaelScott@hotmail.com', 'MarkTurner@hotmail.com', 'JasonBrown@aol.com', 'BarbaraHarris@aol.com', 'BettyWalker@aol.com', 'KimberlyGreen@aol.com', 'WilliamPhillips@aol.com', 'DonaldDavis@aol.com', 'JeffMartin@aol.com', 'ElizabethHall@aol.com', 'HelenAdams@aol.com', 'DeborahCampbell@aol.com', 'DavidMiller@yahoo.com', 'GeorgeThompson@yahoo.com', 'JenniferAllen@yahoo.com', 'SandraBaker@yahoo.com', 'RichardParker@yahoo.com', 'KennethWilson@yahoo.com', 'MariaGarcia@yahoo.com', 'DonnaYoung@yahoo.com', 'CharlesGonzalez@yahoo.com', 'StevenEvans@yahoo.com', 'SusanMoore@yahoo.com', 'CarolMartinez@facebook.com', 'JosephHernandez@facebook.com', 'EdwardNelson@facebook.com', 'MargaretEdwards@facebook.com', 'RuthTaylor@facebook.com', 'ThomasRobinson@facebook.com', 'BrianKing@facebook.com', 'DorothyCarter@facebook.com', 'SharonCollins@facebook.com']\n"
     ]
    }
   ],
   "source": [
    "emails = re.findall(\"[a-zA-Z0-9]+@[a-zA-Z0-9]+\\.[a-z]+\",text)\n",
    "print('EMAIL ID: \\n',emails)"
   ]
  },
  {
   "cell_type": "markdown",
   "id": "6a765225",
   "metadata": {},
   "source": [
    "### c. Collecting dataset websites from a book paragraph using spacy"
   ]
  },
  {
   "cell_type": "code",
   "execution_count": 19,
   "id": "91b94bc4",
   "metadata": {},
   "outputs": [],
   "source": [
    "# Spanning strings over multiple lines\n",
    "text = '''\n",
    "Look for data to help you address the question. Governments are good sources because data from public research is often freely available. Good places to start include http://www.data.gov/, and http://www.science.gov/, and in the United Kingdom, http://data.gov.uk/. \n",
    "Two of my favorite data sets are the General Social Survey at http://www3.norc.org/gss+website/, and the European Social Survey at http://www.europeansocialsurvey.org/. The current representation will be formed by a well-organized collection of agents, previously structured in a dynamic, control-based manner. This collection of agents will be built based on the analysis of activations of conception and structuring agents that intercommunicate. Having first deployed an intent, a global interpretation of the system’s situation is formed by means of questionings, qualifying aspects of things, memorized cases, development of numerous cognitive aspects by activating agents that operate proper scaling up, all of which will allow for the efficient emergence of the representation. The system’s interpretation of this collection of agents will take the form of http://www.systemsurvey.org/ a network of dynamic knowledge of apprehensions, operating through questions in a steadily activated loop. This knowledge network will be activated by the system and further developed based on inter-agent relations that will result in significant aggregations of knowledge, structures of dynamic knowledge with appropriate (domain.com) characteristics.'''"
   ]
  },
  {
   "cell_type": "code",
   "execution_count": 21,
   "id": "0d7c52df",
   "metadata": {},
   "outputs": [
    {
     "name": "stdout",
     "output_type": "stream",
     "text": [
      "URL:\n",
      " ['http://www.data.gov/', 'http://www.science.gov/', 'http://data.gov.uk/.', 'http://www3.norc.org/gss+website/', 'http://www.europeansocialsurvey.org/.', 'http://www.systemsurvey.org/', 'domain.com']\n"
     ]
    }
   ],
   "source": [
    "import spacy \n",
    "nlp=spacy.load('en_core_web_sm')\n",
    "doc = nlp(text)\n",
    "url = []\n",
    "for t in doc:\n",
    "    if t.like_url:\n",
    "        url.append(t.text)\n",
    "print('URL:\\n',url)"
   ]
  },
  {
   "cell_type": "markdown",
   "id": "97cba8c8",
   "metadata": {},
   "source": [
    "### d. Extract all money transaction from below along with currency using spacy"
   ]
  },
  {
   "cell_type": "code",
   "execution_count": 22,
   "id": "c4013e62",
   "metadata": {},
   "outputs": [],
   "source": [
    "import spacy\n",
    "nlp =  spacy.load(\"en_core_web_sm\")"
   ]
  },
  {
   "cell_type": "code",
   "execution_count": 23,
   "id": "3383b80d",
   "metadata": {},
   "outputs": [
    {
     "name": "stdout",
     "output_type": "stream",
     "text": [
      "two $\n",
      "500 €\n"
     ]
    }
   ],
   "source": [
    "transactions = \"Aron gave two $ to Shawn, Smith gave 500 € to Johan\"\n",
    "doc = nlp(transactions)\n",
    "for token in doc:\n",
    "# The token.i attribute returns the index of the current token in the document, \n",
    "# so doc[token.i+1] accesses the next token in the document.\n",
    "    if token.like_num and doc[token.i+1].is_currency:\n",
    "        print(token, doc[token.i+1].text)"
   ]
  },
  {
   "cell_type": "code",
   "execution_count": null,
   "id": "19dbe08b",
   "metadata": {},
   "outputs": [],
   "source": []
  }
 ],
 "metadata": {
  "kernelspec": {
   "display_name": "Python 3 (ipykernel)",
   "language": "python",
   "name": "python3"
  },
  "language_info": {
   "codemirror_mode": {
    "name": "ipython",
    "version": 3
   },
   "file_extension": ".py",
   "mimetype": "text/x-python",
   "name": "python",
   "nbconvert_exporter": "python",
   "pygments_lexer": "ipython3",
   "version": "3.10.12"
  }
 },
 "nbformat": 4,
 "nbformat_minor": 5
}
