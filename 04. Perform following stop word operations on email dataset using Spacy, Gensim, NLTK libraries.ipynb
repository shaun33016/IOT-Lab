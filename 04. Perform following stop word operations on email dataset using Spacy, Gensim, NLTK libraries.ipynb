{
 "cells": [
  {
   "cell_type": "markdown",
   "id": "bc99126e",
   "metadata": {},
   "source": [
    "# 4. Perform following stop word operations on email dataset using Spacy, Gensim, NLTK libraries\n",
    "#### a.Display existing stop words in the default list\n",
    "#### b. Removing stop words from the default list\n",
    "#### c. Adding stop words to the default list\n",
    "#### d. Apply stop word elimination to the email dataset\n"
   ]
  },
  {
   "cell_type": "code",
   "execution_count": 3,
   "id": "30dd2d3f",
   "metadata": {},
   "outputs": [
    {
     "name": "stdout",
     "output_type": "stream",
     "text": [
      "                                                text spam\n",
      "0  Subject: naturally it's your irresistible your...    1\n",
      "1  Subject: the stock trading gunslinger  fanny i...    1\n",
      "2  Subject: unbelievable new homes made easy  im ...    1\n",
      "3  Subject: 4 color printing special  request add...    1\n",
      "4  Subject: do not have money , get software cds ...    1\n",
      "5  Subject: great nnews  hello , welcome to medzo...    1\n",
      "6  Subject: here ' s a hot play in motion  homela...    1\n",
      "7  Subject: save your money buy getting this thin...    1\n",
      "8  Subject: undeliverable : home based business f...    1\n",
      "9  Subject: save your money buy getting this thin...    1\n"
     ]
    }
   ],
   "source": [
    "import pandas as pd\n",
    "data= pd.read_csv('../4nm21ai065/emails.csv', usecols=['text', 'spam'])\n",
    "print(data.head(10))"
   ]
  },
  {
   "cell_type": "markdown",
   "id": "e7ce5766",
   "metadata": {},
   "source": [
    "# Using Spacy\n",
    "## 1. Display existing Stopwords"
   ]
  },
  {
   "cell_type": "code",
   "execution_count": 8,
   "id": "c4330ec3",
   "metadata": {},
   "outputs": [
    {
     "name": "stdout",
     "output_type": "stream",
     "text": [
      "{'first', 'without', '‘m', 'since', 'eight', 'name', 'were', 'been', 'as', 'keep', 'who', 'us', 'but', 'often', 'besides', 'may', 'those', 'top', 'somewhere', 'about', 'and', 'always', 'yourself', 'most', 'therefore', 'he', 'elsewhere', 'using', 'anyone', 'through', 'several', 'hereupon', 'to', 'hereafter', \"'ll\", 'made', 'else', 'yourselves', 'the', 'herein', 'you', 'own', 'there', 'herself', 'bottom', 'onto', 'becoming', 'it', 'some', '‘ll', 'mostly', 'hence', 'many', 'either', 'thus', 'wherein', 'against', 'so', 'that', 'whither', 'such', 'forty', 'rather', 'same', \"'d\", 'hundred', 'see', 'thence', 'seeming', 'amount', 'myself', 'a', 'enough', 'its', 'indeed', 'except', 'only', 'in', 'anyhow', 'quite', 'should', 'nevertheless', \"n't\", 'unless', 'have', 'less', 'whether', 'n‘t', 'everywhere', 'whereafter', 'this', 'per', 'others', 'for', 'much', 'had', 'do', 'himself', 'thru', 'everything', 'their', 'other', 'once', 'least', 'up', 'nine', 'latter', 'during', 'although', 'nobody', 'might', 'put', 'even', 'nothing', 'six', 'namely', 'also', 'would', 'is', 'too', 'doing', '’re', 'if', 'beforehand', 'down', 'go', 'another', 'any', 'seems', 'afterwards', 'became', 'what', 'both', 'themselves', 'make', 'him', 'into', 'seemed', 'she', 'noone', 'when', 'behind', 'here', '’ve', 'ourselves', 'not', 'we', 'beside', 'can', 'give', 'whereas', 'his', \"'ve\", 'no', 'among', 'whole', 'under', 'done', 'show', 'though', 'again', 'three', 'something', 'i', 'than', 'throughout', 'whoever', 'various', 'will', 'anything', 'twenty', 'must', 'somehow', 'someone', \"'re\", '’ll', '’m', '’d', 'at', 'after', 'me', 'n’t', 'therein', 'from', 'yours', 'cannot', 'everyone', 'full', 'toward', 'say', 'almost', 'well', 'an', 'part', 'now', 'never', 'along', 're', 'whence', 'each', 'becomes', 'out', 'above', 'neither', 'whereby', 'very', 'alone', 'just', 'off', 'otherwise', 'could', 'they', '‘s', 'be', 'thereupon', 'every', 'last', 'together', 'third', '‘d', 'become', 'hereby', 'being', 'move', 'still', 'sometimes', 'ours', 'used', 'was', 'nowhere', 'anyway', 'already', 'itself', 'back', 'former', 'yet', '‘ve', '‘re', 'two', 'which', 'your', 'hers', 'my', 'sixty', 'next', 'fifteen', 'take', 'meanwhile', 'because', 'due', 'five', 'has', 'eleven', 'however', 'ca', 'sometime', 'our', 'serious', 'whenever', 'four', 'side', 'via', 'ten', 'call', 'thereafter', \"'m\", 'whom', 'am', 'then', 'get', 'ever', 'on', 'empty', 'around', 'her', 'please', 'front', 'where', 'nor', 'within', 'mine', 'formerly', 'why', '’s', 'more', 'further', 'anywhere', 'them', 'these', 'twelve', 'of', 'whatever', 'thereby', 'seem', 'latterly', 'while', \"'s\", 'one', 'how', 'towards', 'or', 'over', 'below', 'fifty', 'whose', 'are', 'did', 'does', 'amongst', 'moreover', 'wherever', 'really', 'few', 'perhaps', 'whereupon', 'before', 'across', 'by', 'between', 'upon', 'until', 'beyond', 'regarding', 'with', 'none', 'all'}\n"
     ]
    }
   ],
   "source": [
    "import spacy\n",
    "nlp = spacy.load('en_core_web_sm')\n",
    "all_stopwords = nlp.Defaults.stop_words\n",
    "print(all_stopwords)"
   ]
  },
  {
   "cell_type": "markdown",
   "id": "de3a59cd",
   "metadata": {},
   "source": [
    "## 2. Removing Stopwords"
   ]
  },
  {
   "cell_type": "code",
   "execution_count": 9,
   "id": "e42ccf31",
   "metadata": {},
   "outputs": [
    {
     "name": "stdout",
     "output_type": "stream",
     "text": [
      "{'first', 'without', '‘m', 'since', 'eight', 'name', 'were', 'been', 'as', 'keep', 'who', 'us', 'but', 'often', 'besides', 'may', 'those', 'top', 'somewhere', 'about', 'and', 'always', 'yourself', 'most', 'therefore', 'he', 'elsewhere', 'using', 'anyone', 'through', 'several', 'hereupon', 'to', 'hereafter', \"'ll\", 'made', 'else', 'yourselves', 'the', 'herein', 'you', 'own', 'there', 'herself', 'bottom', 'onto', 'becoming', 'it', 'some', '‘ll', 'mostly', 'hence', 'many', 'either', 'thus', 'wherein', 'against', 'so', 'that', 'whither', 'such', 'forty', 'rather', 'same', \"'d\", 'hundred', 'see', 'thence', 'seeming', 'amount', 'myself', 'a', 'enough', 'its', 'indeed', 'except', 'only', 'in', 'anyhow', 'quite', 'should', 'nevertheless', \"n't\", 'unless', 'have', 'less', 'whether', 'n‘t', 'everywhere', 'whereafter', 'this', 'per', 'others', 'for', 'much', 'had', 'do', 'himself', 'thru', 'everything', 'their', 'other', 'once', 'least', 'up', 'nine', 'latter', 'during', 'although', 'nobody', 'might', 'put', 'even', 'nothing', 'six', 'namely', 'also', 'would', 'is', 'too', 'doing', '’re', 'if', 'beforehand', 'down', 'go', 'another', 'any', 'seems', 'afterwards', 'became', 'what', 'both', 'themselves', 'make', 'him', 'into', 'seemed', 'she', 'noone', 'when', 'behind', 'here', '’ve', 'ourselves', 'not', 'we', 'beside', 'can', 'give', 'whereas', 'his', \"'ve\", 'no', 'among', 'whole', 'under', 'done', 'show', 'though', 'again', 'three', 'something', 'i', 'than', 'throughout', 'whoever', 'various', 'anything', 'twenty', 'must', 'somehow', 'someone', \"'re\", '’ll', '’m', '’d', 'at', 'after', 'me', 'n’t', 'therein', 'from', 'yours', 'cannot', 'everyone', 'full', 'toward', 'say', 'almost', 'well', 'an', 'part', 'now', 'never', 'along', 're', 'whence', 'each', 'becomes', 'out', 'above', 'neither', 'whereby', 'very', 'alone', 'just', 'off', 'otherwise', 'could', 'they', '‘s', 'be', 'thereupon', 'every', 'last', 'together', 'third', '‘d', 'become', 'hereby', 'being', 'move', 'still', 'sometimes', 'ours', 'used', 'was', 'nowhere', 'anyway', 'already', 'itself', 'back', 'former', 'yet', '‘ve', '‘re', 'two', 'which', 'your', 'hers', 'my', 'sixty', 'next', 'fifteen', 'take', 'meanwhile', 'because', 'due', 'five', 'has', 'eleven', 'however', 'ca', 'sometime', 'our', 'serious', 'whenever', 'four', 'side', 'via', 'ten', 'call', 'thereafter', \"'m\", 'whom', 'am', 'then', 'get', 'ever', 'on', 'empty', 'around', 'her', 'please', 'front', 'where', 'nor', 'within', 'mine', 'formerly', 'why', '’s', 'more', 'further', 'anywhere', 'them', 'these', 'twelve', 'of', 'whatever', 'thereby', 'seem', 'latterly', 'while', \"'s\", 'one', 'how', 'towards', 'or', 'over', 'below', 'fifty', 'whose', 'are', 'did', 'does', 'amongst', 'moreover', 'wherever', 'really', 'few', 'perhaps', 'whereupon', 'before', 'across', 'by', 'between', 'upon', 'until', 'beyond', 'regarding', 'with', 'none', 'all'}\n"
     ]
    }
   ],
   "source": [
    "all_stopwords.remove('will')\n",
    "print(all_stopwords)"
   ]
  },
  {
   "cell_type": "markdown",
   "id": "9ad91428",
   "metadata": {},
   "source": [
    "## 3. Adding Stopwords"
   ]
  },
  {
   "cell_type": "code",
   "execution_count": 10,
   "id": "6f718405",
   "metadata": {},
   "outputs": [
    {
     "name": "stdout",
     "output_type": "stream",
     "text": [
      "{'first', 'without', '‘m', 'since', 'eight', 'name', 'naturally', 'were', 'been', 'as', 'keep', 'who', 'us', 'but', 'often', 'besides', 'may', 'those', 'top', 'somewhere', 'about', 'and', 'always', 'yourself', 'most', 'therefore', 'he', 'elsewhere', 'using', 'anyone', 'through', 'several', 'hereupon', 'to', 'hereafter', \"'ll\", 'made', 'else', 'yourselves', 'the', 'herein', 'you', 'own', 'there', 'herself', 'bottom', 'onto', 'becoming', 'it', 'some', '‘ll', 'mostly', 'hence', 'many', 'either', 'thus', 'wherein', 'against', 'so', 'that', 'whither', 'such', 'forty', 'rather', 'same', \"'d\", 'hundred', 'see', 'thence', 'seeming', 'amount', 'myself', 'a', 'enough', 'its', 'indeed', 'except', 'only', 'in', 'anyhow', 'quite', 'should', 'nevertheless', \"n't\", 'unless', 'have', 'less', 'whether', 'n‘t', 'everywhere', 'whereafter', 'this', 'company', 'per', 'others', 'for', 'much', 'had', 'do', 'himself', 'thru', 'everything', 'their', 'other', 'once', 'least', 'up', 'nine', 'latter', 'during', 'although', 'nobody', 'might', 'put', 'even', 'nothing', 'six', 'namely', 'also', 'would', 'is', 'too', 'doing', '’re', 'if', 'beforehand', 'down', 'go', 'another', 'any', 'seems', 'afterwards', 'became', 'what', 'both', 'themselves', 'make', 'him', 'into', 'seemed', 'she', 'noone', 'when', 'behind', 'here', '’ve', 'ourselves', 'not', 'we', 'beside', 'can', 'give', 'whereas', 'his', \"'ve\", 'no', 'among', 'whole', 'under', 'done', 'show', 'though', 'again', 'three', 'something', 'i', 'than', 'throughout', 'whoever', 'various', 'anything', 'twenty', 'must', 'somehow', 'someone', \"'re\", '’ll', '’m', '’d', 'at', 'after', 'me', 'n’t', 'therein', 'from', 'yours', 'cannot', 'everyone', 'full', 'toward', 'say', 'almost', 'well', 'an', 'part', 'now', 'never', 'along', 're', 'whence', 'each', 'becomes', 'out', 'above', 'neither', 'whereby', 'very', 'alone', 'just', 'off', 'otherwise', 'could', 'they', '‘s', 'be', 'thereupon', 'every', 'last', 'together', 'third', '‘d', 'become', 'hereby', 'being', 'move', 'still', 'sometimes', 'ours', 'used', 'was', 'nowhere', 'anyway', 'already', 'itself', 'back', 'former', 'yet', '‘ve', '‘re', 'two', 'which', 'your', 'hers', 'my', 'sixty', 'next', 'fifteen', 'take', 'meanwhile', 'because', 'due', 'five', 'has', 'eleven', 'however', 'ca', 'sometime', 'our', 'serious', 'whenever', 'four', 'side', 'via', 'ten', 'call', 'thereafter', \"'m\", 'whom', 'am', 'then', 'get', 'ever', 'on', 'empty', 'around', 'her', 'please', 'front', 'where', 'nor', 'within', 'mine', 'formerly', 'why', '’s', 'more', 'further', 'anywhere', 'them', 'these', 'twelve', 'of', 'whatever', 'thereby', 'seem', 'latterly', 'while', \"'s\", 'one', 'how', 'towards', 'or', 'over', 'below', 'fifty', 'whose', 'are', 'did', 'does', 'amongst', 'moreover', 'wherever', 'really', 'few', 'perhaps', 'whereupon', 'before', 'across', 'by', 'between', 'upon', 'until', 'beyond', 'regarding', 'with', 'none', 'all'}\n"
     ]
    }
   ],
   "source": [
    "nlp.Defaults.stop_words.add('naturally')\n",
    "nlp.Defaults.stop_words.add('company')\n",
    "print(all_stopwords)"
   ]
  },
  {
   "cell_type": "markdown",
   "id": "b0639b8e",
   "metadata": {},
   "source": [
    "## 4. Stopword Elimination"
   ]
  },
  {
   "cell_type": "code",
   "execution_count": 11,
   "id": "09afad8d",
   "metadata": {},
   "outputs": [
    {
     "data": {
      "text/plain": [
       "\"Subject: naturally it's your irresistible your corporate identity  lt is really hard to recollect a company : the  market is full of suqgestions and the information isoverwhelminq ; but a good  catchy logo , stylish statlonery and outstanding website  will make the task much easier .  we don't promise that havinq ordered a iogo your  company will automaticaily become a world ieader : it isguite ciear that  without good products , effective business organization and practicable aim it  will be hotat nowadays market ; but we do promise that your marketing efforts  will become much more effective . here is the list of clear  benefits : creativeness : hand - made , original logos , specially done  to reflect your distinctive company image . convenience : logo and stationery  are provided in all formats ; easy - to - use content management system letsyou  change your website content and even its structure . promptness : you'll see logo drafts within three business days . affordability : your  marketing break - through shouldn't make gaps in your budget . 100 % satisfaction  guaranteed : we provide unlimited amount of changes with no extra fees for you to  be surethat you will love the result of this collaboration . have a look at our  portfolio _ _ _ _ _ _ _ _ _ _ _ _ _ _ _ _ _ _ _ _ _ _ _ _ _ _ _ _ _ _ _ _ _ _ _ _ _ _ _ _ _ _ _ _ _ _ _ _ _ _ _ _ not interested . . . _ _ _ _ _ _ _ _ _ _ _ _ _ _ _ _ _ _ _ _ _ _ _ _ _ _ _ _ _ _ _ _ _ _ _ _ _ _ _ _ _ _ _ _ _ _ _ _ _ _ _ _\""
      ]
     },
     "execution_count": 11,
     "metadata": {},
     "output_type": "execute_result"
    }
   ],
   "source": [
    "Text = data['text'][0]\n",
    "Text"
   ]
  },
  {
   "cell_type": "code",
   "execution_count": 12,
   "id": "7002a3f8",
   "metadata": {},
   "outputs": [
    {
     "name": "stdout",
     "output_type": "stream",
     "text": [
      "Subject: naturally it's your irresistible your corporate identity  lt is really hard to recollect a company : the  market is full of suqgestions and the information isoverwhelminq ; but a good  catchy logo , stylish statlonery and outstanding website  will make the task much easier .  we don't promise that havinq ordered a iogo your  company will automaticaily become a world ieader : it isguite ciear that  without good products , effective business organization and practicable aim it  will be hotat nowadays market ; but we do promise that your marketing efforts  will become much more effective . here is the list of clear  benefits : creativeness : hand - made , original logos , specially done  to reflect your distinctive company image . convenience : logo and stationery  are provided in all formats ; easy - to - use content management system letsyou  change your website content and even its structure . promptness : you'll see logo drafts within three business days . affordability : your  marketing break - through shouldn't make gaps in your budget . 100 % satisfaction  guaranteed : we provide unlimited amount of changes with no extra fees for you to  be surethat you will love the result of this collaboration . have a look at our  portfolio _ _ _ _ _ _ _ _ _ _ _ _ _ _ _ _ _ _ _ _ _ _ _ _ _ _ _ _ _ _ _ _ _ _ _ _ _ _ _ _ _ _ _ _ _ _ _ _ _ _ _ _ not interested . . . _ _ _ _ _ _ _ _ _ _ _ _ _ _ _ _ _ _ _ _ _ _ _ _ _ _ _ _ _ _ _ _ _ _ _ _ _ _ _ _ _ _ _ _ _ _ _ _ _ _ _ _\n"
     ]
    }
   ],
   "source": [
    "doc = nlp(Text)\n",
    "text = [i.text for i in doc if i.text not in all_stopwords]\n",
    "print(Text)"
   ]
  },
  {
   "cell_type": "markdown",
   "id": "a58a41fe",
   "metadata": {},
   "source": [
    "# Using Gensim"
   ]
  },
  {
   "cell_type": "code",
   "execution_count": 13,
   "id": "ffb3f30a",
   "metadata": {},
   "outputs": [],
   "source": [
    "import gensim"
   ]
  },
  {
   "cell_type": "code",
   "execution_count": 14,
   "id": "a42b18e4",
   "metadata": {},
   "outputs": [],
   "source": [
    "all_stopwords = gensim.parsing.preprocessing.STOPWORDS"
   ]
  },
  {
   "cell_type": "markdown",
   "id": "b0965eef",
   "metadata": {},
   "source": [
    "## 1. Show all Stopwords"
   ]
  },
  {
   "cell_type": "code",
   "execution_count": 15,
   "id": "676a604b",
   "metadata": {},
   "outputs": [
    {
     "name": "stdout",
     "output_type": "stream",
     "text": [
      "frozenset({'first', 'without', 'since', 'eight', 'name', 'de', 'were', 'been', 'as', 'keep', 'who', 'us', 'but', 'often', 'besides', 'may', 'those', 'top', 'somewhere', 'about', 'didn', 'and', 'always', 'yourself', 'most', 'therefore', 'he', 'system', 'elsewhere', 'using', 'anyone', 'through', 'several', 'hereupon', 'to', 'hereafter', 'made', 'else', 'yourselves', 'eg', 'the', 'herein', 'you', 'found', 'own', 'there', 'herself', 'bottom', 'onto', 'becoming', 'it', 'some', 'mostly', 'hence', 'many', 'either', 'thus', 'wherein', 'against', 'so', 'that', 'whither', 'such', 'forty', 'rather', 'same', 'hundred', 'thence', 'see', 'seeming', 'amount', 'myself', 'a', 'enough', 'don', 'its', 'indeed', 'except', 'mill', 'only', 'in', 'anyhow', 'quite', 'should', 'nevertheless', 'unless', 'have', 'less', 'whether', 'interest', 'everywhere', 'whereafter', 'this', 'per', 'others', 'for', 'much', 'had', 'do', 'himself', 'thru', 'everything', 'their', 'other', 'once', 'least', 'up', 'nine', 'latter', 'during', 'although', 'nobody', 'might', 'put', 'even', 'nothing', 'six', 'namely', 'computer', 'also', 'km', 'would', 'is', 'too', 'doing', 'if', 'down', 'beforehand', 'go', 'seems', 'another', 'any', 'what', 'became', 'afterwards', 'both', 'themselves', 'make', 'find', 'him', 'into', 'ie', 'seemed', 'she', 'noone', 'bill', 'when', 'behind', 'cant', 'here', 'ourselves', 'not', 'we', 'kg', 'beside', 'can', 'give', 'whereas', 'his', 'no', 'amoungst', 'among', 'whole', 'under', 'done', 'show', 'sincere', 'again', 'though', 'three', 'something', 'i', 'than', 'throughout', 'whoever', 'various', 'will', 'anything', 'twenty', 'must', 'somehow', 'someone', 'at', 'after', 'me', 'therein', 'ltd', 'from', 'yours', 'cannot', 'everyone', 'full', 'toward', 'say', 'almost', 'well', 'part', 'an', 'now', 'never', 'along', 're', 'etc', 'each', 'whence', 'becomes', 'out', 'above', 'neither', 'whereby', 'very', 'alone', 'just', 'off', 'otherwise', 'could', 'they', 'be', 'thereupon', 'cry', 'every', 'last', 'together', 'third', 'become', 'hereby', 'being', 'move', 'still', 'sometimes', 'ours', 'used', 'was', 'co', 'fill', 'nowhere', 'describe', 'anyway', 'hasnt', 'thick', 'already', 'itself', 'back', 'former', 'yet', 'couldnt', 'two', 'which', 'inc', 'your', 'hers', 'my', 'sixty', 'next', 'fifteen', 'take', 'meanwhile', 'because', 'due', 'has', 'five', 'eleven', 'however', 'sometime', 'con', 'our', 'serious', 'whenever', 'four', 'side', 'via', 'ten', 'call', 'thereafter', 'whom', 'am', 'then', 'un', 'get', 'ever', 'on', 'empty', 'around', 'her', 'please', 'front', 'where', 'nor', 'within', 'mine', 'formerly', 'why', 'more', 'further', 'anywhere', 'fire', 'them', 'these', 'twelve', 'whatever', 'of', 'thereby', 'seem', 'latterly', 'while', 'one', 'how', 'thin', 'towards', 'or', 'over', 'below', 'doesn', 'fifty', 'whose', 'are', 'did', 'does', 'amongst', 'detail', 'moreover', 'wherever', 'really', 'few', 'perhaps', 'whereupon', 'before', 'across', 'by', 'between', 'upon', 'until', 'beyond', 'regarding', 'with', 'none', 'all'})\n"
     ]
    }
   ],
   "source": [
    "print(all_stopwords)"
   ]
  },
  {
   "cell_type": "markdown",
   "id": "d5080329",
   "metadata": {},
   "source": [
    "## 2. Adding Stopwords"
   ]
  },
  {
   "cell_type": "code",
   "execution_count": 16,
   "id": "71742186",
   "metadata": {},
   "outputs": [
    {
     "name": "stdout",
     "output_type": "stream",
     "text": [
      "frozenset({'twenty', 'must', 'first', 'without', 'since', 'somehow', 'eight', 'someone', 'name', 'de', 'naturally', 'were', 'been', 'as', 'keep', 'who', 'at', 'after', 'us', 'me', 'but', 'often', 'therein', 'besides', 'may', 'ltd', 'those', 'top', 'somewhere', 'about', 'didn', 'from', 'and', 'always', 'yourself', 'most', 'therefore', 'yours', 'he', 'cannot', 'everyone', 'full', 'toward', 'say', 'almost', 'well', 'system', 'elsewhere', 'part', 'an', 'using', 'now', 'anyone', 'never', 'along', 'through', 're', 'several', 'etc', 'each', 'whence', 'becomes', 'hereupon', 'out', 'to', 'hereafter', 'above', 'neither', 'made', 'else', 'whereby', 'yourselves', 'eg', 'the', 'very', 'herein', 'you', 'found', 'own', 'alone', 'just', 'off', 'there', 'otherwise', 'could', 'they', 'be', 'herself', 'bottom', 'onto', 'thereupon', 'becoming', 'it', 'cry', 'every', 'last', 'together', 'some', 'third', 'mostly', 'become', 'hereby', 'hence', 'many', 'either', 'thus', 'wherein', 'being', 'against', 'so', 'move', 'still', 'sometimes', 'that', 'ours', 'used', 'whither', 'was', 'such', 'co', 'forty', 'rather', 'same', 'fill', 'nowhere', 'describe', 'hundred', 'anyway', 'thence', 'see', 'hasnt', 'thick', 'seeming', 'amount', 'already', 'myself', 'a', 'enough', 'itself', 'back', 'former', 'don', 'its', 'yet', 'indeed', 'couldnt', 'except', 'mill', 'only', 'two', 'which', 'in', 'anyhow', 'quite', 'inc', 'your', 'hers', 'should', 'my', 'sixty', 'next', 'nevertheless', 'unless', 'have', 'less', 'whether', 'fifteen', 'interest', 'everywhere', 'whereafter', 'this', 'take', 'company', 'meanwhile', 'because', 'per', 'others', 'due', 'has', 'five', 'eleven', 'however', 'sometime', 'for', 'con', 'much', 'had', 'our', 'serious', 'do', 'himself', 'thru', 'whenever', 'four', 'everything', 'side', 'their', 'via', 'ten', 'other', 'once', 'least', 'call', 'up', 'thereafter', 'nine', 'latter', 'during', 'although', 'whom', 'nobody', 'am', 'then', 'might', 'put', 'un', 'get', 'ever', 'on', 'even', 'nothing', 'six', 'empty', 'namely', 'computer', 'also', 'around', 'km', 'her', 'please', 'front', 'where', 'would', 'nor', 'within', 'mine', 'formerly', 'is', 'why', 'too', 'more', 'further', 'anywhere', 'fire', 'them', 'doing', 'if', 'down', 'beforehand', 'these', 'twelve', 'whatever', 'go', 'of', 'seems', 'another', 'any', 'thereby', 'seem', 'what', 'became', 'afterwards', 'latterly', 'both', 'themselves', 'make', 'find', 'him', 'while', 'into', 'ie', 'one', 'seemed', 'how', 'she', 'noone', 'thin', 'bill', 'towards', 'when', 'or', 'over', 'below', 'behind', 'cant', 'doesn', 'fifty', 'whose', 'here', 'are', 'ourselves', 'not', 'we', 'kg', 'did', 'beside', 'does', 'can', 'give', 'amongst', 'detail', 'whereas', 'his', 'moreover', 'wherever', 'really', 'no', 'few', 'amoungst', 'among', 'whole', 'under', 'perhaps', 'whereupon', 'before', 'done', 'show', 'sincere', 'again', 'though', 'three', 'across', 'by', 'something', 'i', 'between', 'upon', 'than', 'throughout', 'whoever', 'until', 'beyond', 'regarding', 'various', 'with', 'none', 'all', 'will', 'anything'})\n"
     ]
    }
   ],
   "source": [
    "from gensim.parsing.preprocessing import STOPWORDS\n",
    "all_stopwords_gensim=STOPWORDS.union(set(['naturally','company']))\n",
    "print(all_stopwords_gensim)"
   ]
  },
  {
   "cell_type": "markdown",
   "id": "903de425",
   "metadata": {},
   "source": [
    "## 3. Removing Stopwords"
   ]
  },
  {
   "cell_type": "code",
   "execution_count": 17,
   "id": "0ae98d05",
   "metadata": {},
   "outputs": [
    {
     "name": "stdout",
     "output_type": "stream",
     "text": [
      "frozenset({'first', 'without', 'since', 'eight', 'name', 'de', 'were', 'been', 'as', 'keep', 'who', 'us', 'but', 'often', 'besides', 'may', 'those', 'top', 'somewhere', 'about', 'didn', 'and', 'always', 'yourself', 'most', 'therefore', 'he', 'system', 'elsewhere', 'using', 'anyone', 'through', 'several', 'hereupon', 'to', 'hereafter', 'made', 'else', 'yourselves', 'eg', 'the', 'herein', 'you', 'found', 'own', 'there', 'herself', 'bottom', 'onto', 'becoming', 'it', 'some', 'mostly', 'hence', 'many', 'either', 'thus', 'wherein', 'against', 'so', 'that', 'whither', 'such', 'forty', 'rather', 'same', 'hundred', 'thence', 'see', 'seeming', 'amount', 'myself', 'a', 'enough', 'don', 'its', 'indeed', 'except', 'mill', 'only', 'in', 'anyhow', 'quite', 'should', 'nevertheless', 'unless', 'have', 'less', 'whether', 'interest', 'everywhere', 'whereafter', 'this', 'per', 'others', 'for', 'much', 'had', 'do', 'himself', 'thru', 'everything', 'their', 'other', 'once', 'least', 'up', 'nine', 'latter', 'during', 'although', 'nobody', 'might', 'put', 'even', 'nothing', 'six', 'namely', 'computer', 'also', 'km', 'would', 'is', 'too', 'doing', 'if', 'down', 'beforehand', 'go', 'seems', 'another', 'any', 'what', 'became', 'afterwards', 'both', 'themselves', 'make', 'find', 'him', 'into', 'ie', 'seemed', 'she', 'noone', 'bill', 'when', 'behind', 'cant', 'here', 'ourselves', 'not', 'we', 'kg', 'beside', 'can', 'give', 'whereas', 'his', 'no', 'amoungst', 'among', 'whole', 'under', 'done', 'show', 'sincere', 'again', 'though', 'three', 'something', 'i', 'than', 'throughout', 'whoever', 'various', 'will', 'anything', 'twenty', 'must', 'somehow', 'someone', 'at', 'after', 'me', 'therein', 'ltd', 'from', 'yours', 'cannot', 'everyone', 'full', 'toward', 'say', 'almost', 'well', 'part', 'an', 'now', 'never', 'along', 're', 'etc', 'each', 'whence', 'becomes', 'out', 'above', 'neither', 'whereby', 'very', 'alone', 'just', 'off', 'otherwise', 'could', 'they', 'be', 'thereupon', 'cry', 'every', 'last', 'together', 'third', 'become', 'hereby', 'being', 'move', 'still', 'sometimes', 'ours', 'used', 'was', 'co', 'fill', 'nowhere', 'describe', 'anyway', 'hasnt', 'thick', 'already', 'itself', 'back', 'former', 'yet', 'couldnt', 'two', 'which', 'inc', 'your', 'hers', 'my', 'sixty', 'next', 'fifteen', 'take', 'meanwhile', 'because', 'due', 'has', 'five', 'eleven', 'however', 'sometime', 'con', 'our', 'serious', 'whenever', 'four', 'side', 'via', 'ten', 'call', 'thereafter', 'whom', 'am', 'then', 'un', 'get', 'ever', 'on', 'empty', 'around', 'her', 'please', 'front', 'where', 'nor', 'within', 'mine', 'formerly', 'why', 'more', 'further', 'anywhere', 'fire', 'them', 'these', 'twelve', 'whatever', 'of', 'thereby', 'seem', 'latterly', 'while', 'one', 'how', 'thin', 'towards', 'or', 'over', 'below', 'doesn', 'fifty', 'whose', 'are', 'did', 'does', 'amongst', 'detail', 'moreover', 'wherever', 'really', 'few', 'perhaps', 'whereupon', 'before', 'across', 'by', 'between', 'upon', 'until', 'beyond', 'regarding', 'with', 'none', 'all'})\n"
     ]
    }
   ],
   "source": [
    "all_stopwords_gensim = STOPWORDS\n",
    "print(all_stopwords_gensim)"
   ]
  },
  {
   "cell_type": "code",
   "execution_count": 18,
   "id": "3bd7bbb7",
   "metadata": {},
   "outputs": [],
   "source": [
    "all_stopwords_gensim = STOPWORDS.difference('really')"
   ]
  },
  {
   "cell_type": "markdown",
   "id": "a2d2036b",
   "metadata": {},
   "source": [
    "## 4. Apply to Email Dataset"
   ]
  },
  {
   "cell_type": "code",
   "execution_count": 19,
   "id": "f34b20f8",
   "metadata": {},
   "outputs": [],
   "source": [
    "from gensim.utils import tokenize"
   ]
  },
  {
   "cell_type": "code",
   "execution_count": 20,
   "id": "10c476df",
   "metadata": {},
   "outputs": [
    {
     "name": "stdout",
     "output_type": "stream",
     "text": [
      "['Subject', 'naturally', 's', 'irresistible', 'corporate', 'identity', 'lt', 'hard', 'recollect', 'a', 'company', 'market', 'suqgestions', 'information', 'isoverwhelminq', 'a', 'good', 'catchy', 'logo', 'stylish', 'statlonery', 'outstanding', 'website', 'task', 'easier', 't', 'promise', 'havinq', 'ordered', 'a', 'iogo', 'company', 'automaticaily', 'a', 'world', 'ieader', 'isguite', 'ciear', 'good', 'products', 'effective', 'business', 'organization', 'practicable', 'aim', 'hotat', 'nowadays', 'market', 'promise', 'marketing', 'efforts', 'effective', 'list', 'clear', 'benefits', 'creativeness', 'hand', 'original', 'logos', 'specially', 'reflect', 'distinctive', 'company', 'image', 'convenience', 'logo', 'stationery', 'provided', 'formats', 'easy', 'use', 'content', 'management', 'letsyou', 'change', 'website', 'content', 'structure', 'promptness', 'll', 'logo', 'drafts', 'business', 'days', 'affordability', 'marketing', 'break', 'shouldn', 't', 'gaps', 'budget', 'satisfaction', 'guaranteed', 'provide', 'unlimited', 'changes', 'extra', 'fees', 'surethat', 'love', 'result', 'collaboration', 'a', 'look', 'portfolio', '_', '_', '_', '_', '_', '_', '_', '_', '_', '_', '_', '_', '_', '_', '_', '_', '_', '_', '_', '_', '_', '_', '_', '_', '_', '_', '_', '_', '_', '_', '_', '_', '_', '_', '_', '_', '_', '_', '_', '_', '_', '_', '_', '_', '_', '_', '_', '_', '_', '_', '_', '_', 'interested', '_', '_', '_', '_', '_', '_', '_', '_', '_', '_', '_', '_', '_', '_', '_', '_', '_', '_', '_', '_', '_', '_', '_', '_', '_', '_', '_', '_', '_', '_', '_', '_', '_', '_', '_', '_', '_', '_', '_', '_', '_', '_', '_', '_', '_', '_', '_', '_', '_', '_', '_', '_']\n"
     ]
    }
   ],
   "source": [
    "tokens = list(tokenize(Text))\n",
    "tokens_without_sw = [word for word in tokens if not word in all_stopwords_gensim]\n",
    "print(tokens_without_sw)"
   ]
  },
  {
   "cell_type": "markdown",
   "id": "3785d0a7",
   "metadata": {},
   "source": [
    "# Using NLTK"
   ]
  },
  {
   "cell_type": "code",
   "execution_count": 23,
   "id": "39ed6d0d",
   "metadata": {},
   "outputs": [],
   "source": [
    "import nltk\n",
    "from nltk.corpus import stopwords\n",
    "from nltk.tokenize import word_tokenize"
   ]
  },
  {
   "cell_type": "markdown",
   "id": "03b4ae62",
   "metadata": {},
   "source": [
    "## 1. Showing all"
   ]
  },
  {
   "cell_type": "code",
   "execution_count": 24,
   "id": "0e1b6af2",
   "metadata": {},
   "outputs": [
    {
     "name": "stdout",
     "output_type": "stream",
     "text": [
      "{'only', 'which', 'in', \"don't\", 'your', 'were', 'been', 'hers', 'as', 'll', \"that'll\", 'should', 'ain', 've', 'my', \"shan't\", \"shouldn't\", 'who', 'at', 'after', 'hadn', 'mustn', 'have', 'me', 'but', 'm', 'this', \"she's\", 'because', 'those', \"you'll\", \"it's\", 'about', 'from', 't', 'didn', \"hasn't\", 'has', \"needn't\", 'and', \"won't\", \"haven't\", 'for', 'yourself', 'most', 'our', 'yours', 'had', \"mustn't\", 'he', 'do', \"you're\", 'himself', 's', 'their', 'other', 'an', 'once', 'wasn', \"mightn't\", 'up', 'now', 'through', 'during', 're', 'whom', \"doesn't\", 'hasn', 'each', \"wouldn't\", 'am', 'then', 'out', 'to', 'on', 'y', \"didn't\", \"couldn't\", 'above', \"aren't\", 'her', 'where', 'nor', 'yourselves', 'is', 'why', 'too', 'the', 'very', 'you', 'isn', 'own', 'more', 'further', 'couldn', 'just', 'off', 'there', \"isn't\", 'd', \"you've\", 'them', 'doing', 'if', 'shan', 'down', 'these', 'of', 'any', 'o', 'they', 'wouldn', 'be', 'herself', 'what', 'needn', 'both', 'it', 'theirs', 'themselves', 'having', \"you'd\", 'some', 'mightn', 'him', 'while', 'into', 'how', 'she', 'when', 'being', 'or', 'over', 'against', 'below', 'so', 'doesn', 'here', 'are', 'that', 'ours', 'shouldn', 'ourselves', 'was', 'such', 'not', 'we', 'did', 'does', 'can', 'same', 'his', 'no', 'few', \"hadn't\", 'weren', 'under', 'myself', 'before', \"wasn't\", 'a', 'haven', 'again', 'itself', 'by', \"should've\", 'won', 'i', 'don', 'aren', 'between', 'its', 'than', 'until', 'with', \"weren't\", 'all', 'will', 'ma'}\n"
     ]
    }
   ],
   "source": [
    "stop_words = set(stopwords.words('english'))\n",
    "print(stop_words)"
   ]
  },
  {
   "cell_type": "markdown",
   "id": "8f519c88",
   "metadata": {},
   "source": [
    "## 2. Remove Stopwords"
   ]
  },
  {
   "cell_type": "code",
   "execution_count": 25,
   "id": "951404d2",
   "metadata": {},
   "outputs": [
    {
     "name": "stdout",
     "output_type": "stream",
     "text": [
      "{'only', 'which', 'in', \"don't\", 'your', 'were', 'been', 'hers', 'll', \"that'll\", 'should', 'ain', 've', 'my', \"shan't\", \"shouldn't\", 'who', 'at', 'after', 'hadn', 'mustn', 'have', 'me', 'but', 'm', 'this', \"she's\", 'because', 'those', \"you'll\", \"it's\", 'about', 'from', 't', 'didn', \"hasn't\", 'has', \"needn't\", 'and', \"won't\", \"haven't\", 'for', 'yourself', 'most', 'our', 'yours', 'had', \"mustn't\", 'he', 'do', \"you're\", 'himself', 's', 'their', 'other', 'an', 'once', 'wasn', \"mightn't\", 'up', 'now', 'through', 'during', 're', 'whom', \"doesn't\", 'hasn', 'each', \"wouldn't\", 'am', 'then', 'out', 'to', 'on', 'y', \"didn't\", \"couldn't\", 'above', \"aren't\", 'her', 'where', 'nor', 'yourselves', 'is', 'why', 'too', 'the', 'very', 'you', 'isn', 'own', 'more', 'further', 'couldn', 'just', 'off', 'there', \"isn't\", 'd', \"you've\", 'them', 'doing', 'if', 'shan', 'down', 'these', 'of', 'any', 'o', 'they', 'wouldn', 'be', 'herself', 'what', 'needn', 'both', 'it', 'theirs', 'themselves', 'having', \"you'd\", 'some', 'mightn', 'him', 'while', 'into', 'how', 'she', 'when', 'being', 'or', 'over', 'against', 'below', 'so', 'doesn', 'here', 'are', 'that', 'ours', 'shouldn', 'ourselves', 'was', 'such', 'not', 'we', 'did', 'does', 'can', 'same', 'his', 'no', 'few', \"hadn't\", 'weren', 'under', 'myself', 'before', \"wasn't\", 'a', 'haven', 'again', 'itself', 'by', \"should've\", 'won', 'i', 'don', 'aren', 'between', 'its', 'than', 'until', 'with', \"weren't\", 'all', 'will', 'ma'}\n"
     ]
    }
   ],
   "source": [
    "stop_words.remove('as')\n",
    "print(stop_words)"
   ]
  },
  {
   "cell_type": "markdown",
   "id": "fb5ddfcf",
   "metadata": {},
   "source": [
    "## 3. Adding Stopwords"
   ]
  },
  {
   "cell_type": "code",
   "execution_count": 26,
   "id": "9c36f145",
   "metadata": {},
   "outputs": [
    {
     "name": "stdout",
     "output_type": "stream",
     "text": [
      "{'only', 'which', 'in', \"don't\", 'your', 'were', 'been', 'hers', 'll', \"that'll\", 'should', 'ain', 've', 'my', \"shan't\", \"shouldn't\", 'who', 'at', 'after', 'hadn', 'mustn', 'have', 'me', 'but', 'm', 'this', \"she's\", 'because', 'those', \"you'll\", \"it's\", 'about', 'from', 't', 'didn', \"hasn't\", 'has', \"needn't\", 'and', \"won't\", \"haven't\", 'for', 'yourself', 'most', 'our', 'yours', 'had', \"mustn't\", 'he', 'do', \"you're\", 'himself', 's', 'their', 'other', 'an', 'once', 'wasn', \"mightn't\", 'up', 'now', 'through', 'during', 're', 'whom', \"doesn't\", 'hasn', 'each', \"wouldn't\", 'am', 'then', 'out', 'to', 'on', 'y', \"didn't\", \"couldn't\", 'above', \"aren't\", 'her', 'where', 'nor', 'yourselves', 'is', 'why', 'too', 'the', 'very', 'you', 'isn', 'own', 'more', 'further', 'couldn', 'just', 'off', 'there', \"isn't\", 'd', \"you've\", 'them', 'doing', 'if', 'shan', 'down', 'these', 'of', 'any', 'o', 'they', 'wouldn', 'be', 'herself', 'what', 'needn', 'both', 'it', 'theirs', 'themselves', 'having', \"you'd\", 'some', 'mightn', 'him', 'while', 'into', 'how', 'she', 'when', 'being', 'or', 'over', 'against', 'below', 'so', 'doesn', 'here', 'are', 'that', 'ours', 'shouldn', 'ourselves', 'was', 'such', 'not', 'we', 'did', 'does', 'can', 'same', 'his', 'no', 'few', \"hadn't\", 'weren', 'under', 'myself', 'before', \"wasn't\", 'a', 'haven', 'again', 'itself', 'by', \"should've\", 'won', 'Subject:', 'i', 'don', 'aren', 'between', 'its', 'than', 'until', 'with', \"weren't\", 'all', 'will', 'ma'}\n"
     ]
    }
   ],
   "source": [
    "stop_words.add('Subject:')\n",
    "print(stop_words)"
   ]
  },
  {
   "cell_type": "markdown",
   "id": "5af312d4",
   "metadata": {},
   "source": [
    "## 4. Apply to dataset"
   ]
  },
  {
   "cell_type": "code",
   "execution_count": 27,
   "id": "140a82ec",
   "metadata": {},
   "outputs": [
    {
     "data": {
      "text/plain": [
       "'Subject: 4 color printing special  request additional information now ! click here  click here for a printable version of our order form ( pdf format )  phone : ( 626 ) 338 - 8090 fax : ( 626 ) 338 - 8102 e - mail : ramsey @ goldengraphix . com  request additional information now ! click here  click here for a printable version of our order form ( pdf format )  golden graphix & printing 5110 azusa canyon rd . irwindale , ca 91706 this e - mail message is an advertisement and / or solicitation of games54 and Game5S4 . '"
      ]
     },
     "execution_count": 27,
     "metadata": {},
     "output_type": "execute_result"
    }
   ],
   "source": [
    "Text = data['text'][3]\n",
    "Text"
   ]
  },
  {
   "cell_type": "code",
   "execution_count": 28,
   "id": "e468a4cb",
   "metadata": {},
   "outputs": [
    {
     "data": {
      "text/plain": [
       "'4 color printing special request additional information ! click click printable version order form ( pdf format ) phone : ( 626 ) 338 - 8090 fax : ( 626 ) 338 - 8102 e - mail : ramsey @ goldengraphix . com request additional information ! click click printable version order form ( pdf format ) golden graphix & printing 5110 azusa canyon rd . irwindale , ca 91706 e - mail message advertisement / solicitation games54 Game5S4 .'"
      ]
     },
     "execution_count": 28,
     "metadata": {},
     "output_type": "execute_result"
    }
   ],
   "source": [
    "def remove_stopwords(text):\n",
    "    return \" \".join([word for word in str(text).split() if word not in stop_words])\n",
    "data['text']=data['text'].apply(lambda x: remove_stopwords(x))\n",
    "data['text'][3]"
   ]
  },
  {
   "cell_type": "code",
   "execution_count": null,
   "id": "eda862eb",
   "metadata": {},
   "outputs": [],
   "source": []
  }
 ],
 "metadata": {
  "kernelspec": {
   "display_name": "Python 3 (ipykernel)",
   "language": "python",
   "name": "python3"
  },
  "language_info": {
   "codemirror_mode": {
    "name": "ipython",
    "version": 3
   },
   "file_extension": ".py",
   "mimetype": "text/x-python",
   "name": "python",
   "nbconvert_exporter": "python",
   "pygments_lexer": "ipython3",
   "version": "3.11.5"
  }
 },
 "nbformat": 4,
 "nbformat_minor": 5
}
